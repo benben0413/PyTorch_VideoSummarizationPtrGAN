{
 "cells": [
  {
   "cell_type": "code",
   "execution_count": null,
   "metadata": {},
   "outputs": [],
   "source": [
    "import os\n",
    "\n",
    "os.environ['CUDA_VISIBLE_DEVICES'] = '3'"
   ]
  },
  {
   "cell_type": "code",
   "execution_count": null,
   "metadata": {},
   "outputs": [],
   "source": [
    "import numpy as np\n",
    "from tqdm import tqdm_notebook as tqdm\n",
    "import pickle\n",
    "\n",
    "import torch as T\n",
    "import torch.nn as nn\n",
    "from torch.autograd import Variable as V\n",
    "from torch.utils.data import Dataset, DataLoader\n",
    "\n",
    "from Src.dataloader import *\n",
    "from Src.model import *\n",
    "from Src.tools import *\n",
    "from Src.train import *\n",
    "from Src.test import *"
   ]
  },
  {
   "cell_type": "code",
   "execution_count": null,
   "metadata": {},
   "outputs": [],
   "source": [
    "data, loader = get_loader()\n",
    "for f, g, w in loader:\n",
    "    print(f.shape)\n",
    "    print(g.shape)\n",
    "    print(w.shape)\n",
    "    \n",
    "    break"
   ]
  },
  {
   "cell_type": "code",
   "execution_count": null,
   "metadata": {},
   "outputs": [],
   "source": [
    "G = vsumG(feat_size=2048, hid_size=256, max_out_len=data.max_out_len).cuda()\n",
    "train_G(G, data, loader, save_func=save_model)"
   ]
  },
  {
   "cell_type": "code",
   "execution_count": null,
   "metadata": {},
   "outputs": [],
   "source": [
    "D = vsumD().cuda()\n",
    "train_GD(G, D, loader, save_func=save_model)"
   ]
  },
  {
   "cell_type": "code",
   "execution_count": null,
   "metadata": {},
   "outputs": [],
   "source": [
    "G.load_state_dict(T.load('Model/G.pt'))\n",
    "D.load_state_dict(T.load('Model/D.pt'))"
   ]
  },
  {
   "cell_type": "code",
   "execution_count": null,
   "metadata": {},
   "outputs": [],
   "source": [
    "f1 = evaluation(G, loader)"
   ]
  }
 ],
 "metadata": {
  "kernelspec": {
   "display_name": "Python 3",
   "language": "python",
   "name": "python3"
  },
  "language_info": {
   "codemirror_mode": {
    "name": "ipython",
    "version": 3
   },
   "file_extension": ".py",
   "mimetype": "text/x-python",
   "name": "python",
   "nbconvert_exporter": "python",
   "pygments_lexer": "ipython3",
   "version": "3.6.5"
  }
 },
 "nbformat": 4,
 "nbformat_minor": 2
}
