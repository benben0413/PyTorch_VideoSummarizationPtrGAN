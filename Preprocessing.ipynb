{
 "cells": [
  {
   "cell_type": "code",
   "execution_count": 1,
   "metadata": {},
   "outputs": [],
   "source": [
    "import os\n",
    "\n",
    "os.environ['CUDA_VISIBLE_DEVICES'] = '3'"
   ]
  },
  {
   "cell_type": "code",
   "execution_count": 2,
   "metadata": {},
   "outputs": [],
   "source": [
    "from glob import glob\n",
    "from tqdm import tqdm_notebook as tqdm"
   ]
  },
  {
   "cell_type": "code",
   "execution_count": 3,
   "metadata": {},
   "outputs": [],
   "source": [
    "import torch as T\n",
    "import torch.nn as nn\n",
    "from torch.autograd import Variable as V\n",
    "\n",
    "import torchvision.models as models\n",
    "import torchvision.transforms as transforms"
   ]
  },
  {
   "cell_type": "code",
   "execution_count": 4,
   "metadata": {},
   "outputs": [],
   "source": [
    "trs = transforms.Compose([transforms.ToTensor(), \n",
    "                          transforms.Normalize(mean=[0.485, 0.456, 0.406], \n",
    "                                               std=[0.229, 0.224, 0.225])])"
   ]
  },
  {
   "cell_type": "code",
   "execution_count": 5,
   "metadata": {},
   "outputs": [],
   "source": [
    "class VisualFeatureExtractor(nn.Module):\n",
    "    def __init__(self):\n",
    "        super(VisualFeatureExtractor, self).__init__()\n",
    "        \n",
    "        resnet = models.resnet101(pretrained=True)\n",
    "        self.model = nn.Sequential(*list(resnet.children())[:-1])\n",
    "        \n",
    "    def forward(self, img):\n",
    "        out = self.model(img)\n",
    "        \n",
    "        return out\n",
    "\n",
    "vfe = VisualFeatureExtractor().cuda()"
   ]
  },
  {
   "cell_type": "code",
   "execution_count": 6,
   "metadata": {},
   "outputs": [],
   "source": [
    "from PIL import Image\n",
    "import cv2\n",
    "import numpy as np"
   ]
  },
  {
   "cell_type": "code",
   "execution_count": 7,
   "metadata": {},
   "outputs": [
    {
     "data": {
      "application/vnd.jupyter.widget-view+json": {
       "model_id": "58fe298ca20b455dbab26781f433655c",
       "version_major": 2,
       "version_minor": 0
      },
      "text/plain": [
       "HBox(children=(IntProgress(value=0, max=40), HTML(value='')))"
      ]
     },
     "metadata": {},
     "output_type": "display_data"
    },
    {
     "name": "stdout",
     "output_type": "stream",
     "text": [
      "\n"
     ]
    }
   ],
   "source": [
    "paths = glob('Dataset/Youtube/Input/*')\n",
    "feats = dict()\n",
    "\n",
    "for path in tqdm(paths):\n",
    "    v = path[path.rfind('/')+1:]\n",
    "    feats[v] = []\n",
    "    leng = len(glob(path+'/*.png'))\n",
    "    \n",
    "    for i in range(1, leng+1):\n",
    "        img = Image.open(path+'/%d.png'%(i))\n",
    "        img = np.array(img)\n",
    "        img = cv2.resize(img, (224, 224))\n",
    "        \n",
    "        img = trs(img)\n",
    "        img = img.view((1, 3, 224, 224))\n",
    "        feat = vfe(V(img).float().cuda())\n",
    "        feat = np.squeeze(feat.cpu().detach().numpy())\n",
    "        \n",
    "        feats[v].append(feat)"
   ]
  },
  {
   "cell_type": "code",
   "execution_count": 8,
   "metadata": {},
   "outputs": [],
   "source": [
    "import pickle\n",
    "\n",
    "pickle.dump(feats, open('features.pkl', 'wb'))"
   ]
  }
 ],
 "metadata": {
  "kernelspec": {
   "display_name": "Python 3",
   "language": "python",
   "name": "python3"
  },
  "language_info": {
   "codemirror_mode": {
    "name": "ipython",
    "version": 3
   },
   "file_extension": ".py",
   "mimetype": "text/x-python",
   "name": "python",
   "nbconvert_exporter": "python",
   "pygments_lexer": "ipython3",
   "version": "3.6.5"
  }
 },
 "nbformat": 4,
 "nbformat_minor": 2
}
